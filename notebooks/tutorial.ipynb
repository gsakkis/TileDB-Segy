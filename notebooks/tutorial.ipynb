{
 "cells": [
  {
   "cell_type": "markdown",
   "metadata": {},
   "source": [
    "# TileDB-Segy tutorial"
   ]
  },
  {
   "cell_type": "markdown",
   "metadata": {},
   "source": [
    "This notebook introduces [TileDB-Segy](https://github.com/TileDB-Inc/TileDB-Segy) for reading and inspecting SEG-Y data. It uses the [Kerry3D data](https://wiki.seg.org/wiki/Kerry-3D) as the input SEG-Y file."
   ]
  },
  {
   "cell_type": "markdown",
   "metadata": {},
   "source": [
    "## Converting to TileDB-Segy"
   ]
  },
  {
   "cell_type": "markdown",
   "metadata": {},
   "source": [
    "When TileDB-Segy is installed, it installs a commandline interface (CLI) called `segy2tiledb` for converting\n",
    "SEG-Y and Seismic Unix formatted files to TileDB formatted arrays."
   ]
  },
  {
   "cell_type": "code",
   "execution_count": 1,
   "metadata": {},
   "outputs": [
    {
     "name": "stdout",
     "output_type": "stream",
     "text": [
      "usage: segy2tiledb [-h] [-o] [-g {auto,structured,unstructured}] [--su] [--iline ILINE] [--xline XLINE] [--endian {big,msb,little,lsb}] [-s TILE_SIZE]\r\n",
      "                   input [output]\r\n",
      "\r\n",
      "Convert a SEG-Y file to tiledb-segy format\r\n",
      "\r\n",
      "positional arguments:\r\n",
      "  input                 Input SEG-Y file path\r\n",
      "  output                Output directory path (default: None)\r\n",
      "\r\n",
      "optional arguments:\r\n",
      "  -h, --help            show this help message and exit\r\n",
      "  -o, --overwrite       Overwrite the output directory if it already exists (default: False)\r\n",
      "  -g {auto,structured,unstructured}, --geometry {auto,structured,unstructured}\r\n",
      "                        Output geometry:\r\n",
      "                        - auto: same as the input SEG-Y.\r\n",
      "                        - structured: same as `auto` but abort if a geometry cannot be inferred.\r\n",
      "                        - unstructured: opt out on building geometry information.\r\n",
      "                         (default: auto)\r\n",
      "\r\n",
      "segyio options:\r\n",
      "  --su                  Open a seismic unix file instead of SEG-Y (default: False)\r\n",
      "  --iline ILINE         Inline number field in the trace headers (default: 189)\r\n",
      "  --xline XLINE         Crossline number field in the trace headers (default: 193)\r\n",
      "  --endian {big,msb,little,lsb}\r\n",
      "                        File endianness, big/msb (default) or little/lsb (default: big)\r\n",
      "\r\n",
      "tiledb options:\r\n",
      "  -s TILE_SIZE, --tile-size TILE_SIZE\r\n",
      "                        Tile size in bytes.\r\n",
      "                        Larger tile size improves disk access time at the cost of higher memory (default: 4000000)\r\n"
     ]
    }
   ],
   "source": [
    "!segy2tiledb --help"
   ]
  },
  {
   "cell_type": "markdown",
   "metadata": {},
   "source": [
    "***"
   ]
  },
  {
   "cell_type": "markdown",
   "metadata": {},
   "source": [
    "`Kerry3D` uses a non-default `iline` and `xline` number field so we need to specify these if we want to preserve the geometry:"
   ]
  },
  {
   "cell_type": "code",
   "execution_count": 2,
   "metadata": {},
   "outputs": [],
   "source": [
    "!segy2tiledb --iline=223 --xline=21 --overwrite ./Kerry3D.segy"
   ]
  },
  {
   "cell_type": "markdown",
   "metadata": {},
   "source": [
    "TileDB-Segy uses [TileDB's compression filters](https://docs.tiledb.com/main/basic-concepts/data-format#compression-filters) to perform a lossless compression of the input data."
   ]
  },
  {
   "cell_type": "code",
   "execution_count": 3,
   "metadata": {},
   "outputs": [
    {
     "name": "stdout",
     "output_type": "stream",
     "text": [
      "1,1G\tKerry3D.segy\n",
      "612M\tKerry3D.tsgy\n"
     ]
    }
   ],
   "source": [
    "!du -sh Kerry3D.*"
   ]
  },
  {
   "cell_type": "markdown",
   "metadata": {},
   "source": [
    "## Using the TileDB-Segy API"
   ]
  },
  {
   "cell_type": "markdown",
   "metadata": {},
   "source": [
    "First we need to import the `tiledb.segy` package. Also import `numpy` and set some printing options. "
   ]
  },
  {
   "cell_type": "code",
   "execution_count": 4,
   "metadata": {},
   "outputs": [],
   "source": [
    "import tiledb.segy\n",
    "import numpy as np\n",
    "\n",
    "np.set_printoptions(precision=4, threshold=10, suppress=True)"
   ]
  },
  {
   "cell_type": "markdown",
   "metadata": {},
   "source": [
    "### Opening and closing"
   ]
  },
  {
   "cell_type": "markdown",
   "metadata": {},
   "source": [
    "Opening a `tsgy` directory is done with the `tiledb.segy.open` function, idiomatically used as a context manager:"
   ]
  },
  {
   "cell_type": "code",
   "execution_count": 5,
   "metadata": {},
   "outputs": [],
   "source": [
    "with tiledb.segy.open(\"./Kerry3D.tsgy\") as f:\n",
    "    ..."
   ]
  },
  {
   "cell_type": "markdown",
   "metadata": {},
   "source": [
    "Alternatively we can call `open` directly, in which case we should `close` the returned object explicitly:"
   ]
  },
  {
   "cell_type": "code",
   "execution_count": 6,
   "metadata": {},
   "outputs": [],
   "source": [
    "f = tiledb.segy.open(\"./Kerry3D.tsgy\")\n",
    "# ...\n",
    "# Remember to close f when no longer needed\n",
    "# f.close()"
   ]
  },
  {
   "cell_type": "markdown",
   "metadata": {},
   "source": [
    "In this case `f` is a `StructuredSegy` instance, which means the data have an established geometry structure (inline numbers, crossline numbers etc.). The alternative would be  a `Segy` instance, which is unstructured. `StructuredSegy` extends `Segy` and its API is a superset of the latter:"
   ]
  },
  {
   "cell_type": "code",
   "execution_count": 7,
   "metadata": {},
   "outputs": [
    {
     "data": {
      "text/plain": [
       "StructuredSegy('Kerry3D.tsgy')"
      ]
     },
     "execution_count": 7,
     "metadata": {},
     "output_type": "execute_result"
    }
   ],
   "source": [
    "f"
   ]
  },
  {
   "cell_type": "code",
   "execution_count": 8,
   "metadata": {},
   "outputs": [
    {
     "data": {
      "text/plain": [
       "[tiledb.segy.StructuredSegy, tiledb.segy.Segy, object]"
      ]
     },
     "execution_count": 8,
     "metadata": {},
     "output_type": "execute_result"
    }
   ],
   "source": [
    "f.__class__.mro()"
   ]
  },
  {
   "cell_type": "code",
   "execution_count": 9,
   "metadata": {},
   "outputs": [
    {
     "name": "stdout",
     "output_type": "stream",
     "text": [
      "['attributes', 'bin', 'close', 'depth_slice', 'dt', 'header', 'samples', 'sorting', 'text', 'trace', 'uri']\n"
     ]
    }
   ],
   "source": [
    "# Segy API\n",
    "print(list(a for a in dir(tiledb.segy.Segy) if a[0] != '_'))"
   ]
  },
  {
   "cell_type": "code",
   "execution_count": 10,
   "metadata": {},
   "outputs": [
    {
     "name": "stdout",
     "output_type": "stream",
     "text": [
      "['attributes', 'bin', 'close', 'cube', 'depth_slice', 'dt', 'fast', 'gather', 'header', 'iline', 'ilines', 'offsets', 'samples', 'slow', 'sorting', 'text', 'trace', 'uri', 'xline', 'xlines']\n"
     ]
    }
   ],
   "source": [
    "# StructuredSegy API\n",
    "print(list(a for a in dir(tiledb.segy.StructuredSegy) if a[0] != '_'))"
   ]
  },
  {
   "cell_type": "markdown",
   "metadata": {},
   "source": [
    "In the following sections `f` is an open `StructuredSegy` instance."
   ]
  },
  {
   "cell_type": "markdown",
   "metadata": {},
   "source": [
    "### Public attributes"
   ]
  },
  {
   "cell_type": "markdown",
   "metadata": {},
   "source": [
    "`StructuredSegy` objects have the following public attributes:\n",
    "- `f.uri`: Uniform resource identifier (usually local file path) to the underlying data\n",
    "- `f.sorting`: Whether the data are sorted by inline, crossline or neither (unsorted)\n",
    "- `f.ilines`: Inferred inline numbers\n",
    "- `f.xlines`: Inferred crossline numbers\n",
    "- `f.offsets`: Inferred offsets numbers\n",
    "- `f.samples`: Inferred sample offsets (frequency and recording time delay)\n"
   ]
  },
  {
   "cell_type": "code",
   "execution_count": 11,
   "metadata": {},
   "outputs": [
    {
     "data": {
      "text/plain": [
       "URL('Kerry3D.tsgy')"
      ]
     },
     "execution_count": 11,
     "metadata": {},
     "output_type": "execute_result"
    }
   ],
   "source": [
    "f.uri"
   ]
  },
  {
   "cell_type": "code",
   "execution_count": 12,
   "metadata": {},
   "outputs": [
    {
     "data": {
      "text/plain": [
       "INLINE_SORTING"
      ]
     },
     "execution_count": 12,
     "metadata": {},
     "output_type": "execute_result"
    }
   ],
   "source": [
    "f.sorting"
   ]
  },
  {
   "cell_type": "code",
   "execution_count": 13,
   "metadata": {},
   "outputs": [
    {
     "data": {
      "text/plain": [
       "(287, array([510, 511, 512, ..., 794, 795, 796], dtype=int32))"
      ]
     },
     "execution_count": 13,
     "metadata": {},
     "output_type": "execute_result"
    }
   ],
   "source": [
    "f.ilines.size, f.ilines"
   ]
  },
  {
   "cell_type": "code",
   "execution_count": 14,
   "metadata": {},
   "outputs": [
    {
     "data": {
      "text/plain": [
       "(735, array([ 58,  59,  60, ..., 790, 791, 792], dtype=int32))"
      ]
     },
     "execution_count": 14,
     "metadata": {},
     "output_type": "execute_result"
    }
   ],
   "source": [
    "f.xlines.size, f.xlines"
   ]
  },
  {
   "cell_type": "code",
   "execution_count": 15,
   "metadata": {},
   "outputs": [
    {
     "data": {
      "text/plain": [
       "array([0], dtype=int32)"
      ]
     },
     "execution_count": 15,
     "metadata": {},
     "output_type": "execute_result"
    }
   ],
   "source": [
    "f.offsets"
   ]
  },
  {
   "cell_type": "code",
   "execution_count": 16,
   "metadata": {},
   "outputs": [
    {
     "data": {
      "text/plain": [
       "(1252, array([   0.,    4.,    8., ..., 4996., 5000., 5004.]))"
      ]
     },
     "execution_count": 16,
     "metadata": {},
     "output_type": "execute_result"
    }
   ],
   "source": [
    "f.samples.size, f.samples"
   ]
  },
  {
   "cell_type": "markdown",
   "metadata": {},
   "source": [
    "### Modes"
   ]
  },
  {
   "cell_type": "markdown",
   "metadata": {},
   "source": [
    "TileDB-Segy supports all the [segyio](https://github.com/equinor/segyio#modes) _addressing modes_ with the same semantics. There are two main differences:\n",
    "- Indexing a `tiledb.segy` mode returns a single numpy array of higher dimension in cases where the respective `segyio` operation returns a generator of numpy arrays.\n",
    "- The mappings returned by `bin`, `header` and `attributes(name)` have string keys instead of `segyio.TraceField` enums or integers."
   ]
  },
  {
   "cell_type": "markdown",
   "metadata": {},
   "source": [
    "#### trace"
   ]
  },
  {
   "cell_type": "code",
   "execution_count": 17,
   "metadata": {},
   "outputs": [
    {
     "data": {
      "text/plain": [
       "<tiledb.segy.indexables.Trace at 0xa4880e0c>"
      ]
     },
     "execution_count": 17,
     "metadata": {},
     "output_type": "execute_result"
    }
   ],
   "source": [
    "f.trace"
   ]
  },
  {
   "cell_type": "code",
   "execution_count": 18,
   "metadata": {},
   "outputs": [
    {
     "data": {
      "text/plain": [
       "210945"
      ]
     },
     "execution_count": 18,
     "metadata": {},
     "output_type": "execute_result"
    }
   ],
   "source": [
    "len(f.trace)"
   ]
  },
  {
   "cell_type": "code",
   "execution_count": 19,
   "metadata": {},
   "outputs": [
    {
     "data": {
      "text/plain": [
       "((1252,),\n",
       " array([0.    , 0.    , 0.    , ..., 0.0487, 0.0487, 0.    ], dtype=float32))"
      ]
     },
     "execution_count": 19,
     "metadata": {},
     "output_type": "execute_result"
    }
   ],
   "source": [
    "t = f.trace[12345]\n",
    "t.shape, t"
   ]
  },
  {
   "cell_type": "code",
   "execution_count": 20,
   "metadata": {},
   "outputs": [
    {
     "data": {
      "text/plain": [
       "((5, 1252),\n",
       " array([[0.    , 0.    , 0.    , ..., 0.0487, 0.0487, 0.    ],\n",
       "        [0.    , 0.    , 0.    , ..., 0.0417, 0.0417, 0.    ],\n",
       "        [0.    , 0.    , 0.    , ..., 0.    , 0.0394, 0.    ],\n",
       "        [0.    , 0.    , 0.    , ..., 0.0405, 0.0405, 0.    ],\n",
       "        [0.    , 0.    , 0.    , ..., 0.    , 0.042 , 0.    ]],\n",
       "       dtype=float32))"
      ]
     },
     "execution_count": 20,
     "metadata": {},
     "output_type": "execute_result"
    }
   ],
   "source": [
    "t5 = f.trace[12345:12350]\n",
    "assert np.array_equal(t5[0], t)\n",
    "t5.shape, t5"
   ]
  },
  {
   "cell_type": "markdown",
   "metadata": {},
   "source": [
    "#### header"
   ]
  },
  {
   "cell_type": "code",
   "execution_count": 21,
   "metadata": {},
   "outputs": [
    {
     "data": {
      "text/plain": [
       "<tiledb.segy.indexables.Header at 0xa47a260c>"
      ]
     },
     "execution_count": 21,
     "metadata": {},
     "output_type": "execute_result"
    }
   ],
   "source": [
    "f.header"
   ]
  },
  {
   "cell_type": "code",
   "execution_count": 22,
   "metadata": {},
   "outputs": [
    {
     "data": {
      "text/plain": [
       "210945"
      ]
     },
     "execution_count": 22,
     "metadata": {},
     "output_type": "execute_result"
    }
   ],
   "source": [
    "len(f.header)"
   ]
  },
  {
   "cell_type": "code",
   "execution_count": 23,
   "metadata": {},
   "outputs": [
    {
     "name": "stdout",
     "output_type": "stream",
     "text": [
      "{'TRACE_SEQUENCE_LINE': 12346, 'TRACE_SEQUENCE_FILE': 12346, 'FieldRecord': 49, 'TraceNumber': 55966956, 'EnergySourcePoint': 288, 'CDP': 643, 'CDP_TRACE': 1, 'TraceIdentificationCode': 1, 'NSummedTraces': 0, 'NStackedTraces': 0, 'DataUse': 1, 'offset': 0, 'ReceiverGroupElevation': 0, 'SourceSurfaceElevation': 0, 'SourceDepth': 0, 'ReceiverDatumElevation': 0, 'SourceDatumElevation': 0, 'SourceWaterDepth': 0, 'GroupWaterDepth': 0, 'ElevationScalar': 1, 'SourceGroupScalar': 1, 'SourceX': 1703234, 'SourceY': 5600913, 'GroupX': 1703234, 'GroupY': 5600913, 'CoordinateUnits': 0, 'WeatheringVelocity': 0, 'SubWeatheringVelocity': 0, 'SourceUpholeTime': 0, 'GroupUpholeTime': 0, 'SourceStaticCorrection': 0, 'GroupStaticCorrection': 0, 'TotalStaticApplied': 0, 'LagTimeA': 0, 'LagTimeB': 0, 'DelayRecordingTime': 0, 'MuteTimeStart': 0, 'MuteTimeEND': 0, 'TRACE_SAMPLE_COUNT': 1252, 'TRACE_SAMPLE_INTERVAL': 4000, 'GainType': 0, 'InstrumentGainConstant': 0, 'InstrumentInitialGain': 0, 'Correlated': 0, 'SweepFrequencyStart': 0, 'SweepFrequencyEnd': 0, 'SweepLength': 0, 'SweepType': 0, 'SweepTraceTaperLengthStart': 0, 'SweepTraceTaperLengthEnd': 0, 'TaperType': 0, 'AliasFilterFrequency': 0, 'AliasFilterSlope': 0, 'NotchFilterFrequency': 0, 'NotchFilterSlope': 0, 'LowCutFrequency': 0, 'HighCutFrequency': 0, 'LowCutSlope': 0, 'HighCutSlope': 0, 'YearDataRecorded': 0, 'DayOfYear': 0, 'HourOfDay': 0, 'MinuteOfHour': 0, 'SecondOfMinute': 0, 'TimeBaseCode': 0, 'TraceWeightingFactor': 0, 'GeophoneGroupNumberRoll1': 0, 'GeophoneGroupNumberFirstTraceOrigField': 0, 'GeophoneGroupNumberLastTraceOrigField': 0, 'GapSize': 0, 'OverTravel': 0, 'CDP_X': 0, 'CDP_Y': 0, 'INLINE_3D': 0, 'CROSSLINE_3D': 0, 'ShotPoint': 0, 'ShotPointScalar': 0, 'TraceValueMeasurementUnit': 0, 'TransductionConstantMantissa': 0, 'TransductionConstantPower': 0, 'TransductionUnit': 0, 'TraceIdentifier': 0, 'ScalarTraceHeader': 0, 'SourceType': 256, 'SourceEnergyDirectionMantissa': 0, 'SourceEnergyDirectionExponent': 526, 'SourceMeasurementMantissa': 0, 'SourceMeasurementExponent': 0, 'SourceMeasurementUnit': 0}\n"
     ]
    },
    {
     "data": {
      "text/plain": [
       "dict"
      ]
     },
     "execution_count": 23,
     "metadata": {},
     "output_type": "execute_result"
    }
   ],
   "source": [
    "h = f.header[12345]\n",
    "print(h)\n",
    "type(h)"
   ]
  },
  {
   "cell_type": "code",
   "execution_count": 24,
   "metadata": {},
   "outputs": [
    {
     "data": {
      "text/plain": [
       "(list, 5)"
      ]
     },
     "execution_count": 24,
     "metadata": {},
     "output_type": "execute_result"
    }
   ],
   "source": [
    "h5 = f.header[12345:12350]\n",
    "assert h5[0] == h\n",
    "type(h5), len(h5)\n"
   ]
  },
  {
   "cell_type": "markdown",
   "metadata": {},
   "source": [
    "#### attributes(header)"
   ]
  },
  {
   "cell_type": "code",
   "execution_count": 25,
   "metadata": {},
   "outputs": [
    {
     "data": {
      "text/plain": [
       "<tiledb.segy.indexables.Attributes at 0xa47a2dcc>"
      ]
     },
     "execution_count": 25,
     "metadata": {},
     "output_type": "execute_result"
    }
   ],
   "source": [
    "a = f.attributes(\"SourceX\")\n",
    "a"
   ]
  },
  {
   "cell_type": "code",
   "execution_count": 26,
   "metadata": {},
   "outputs": [
    {
     "data": {
      "text/plain": [
       "210945"
      ]
     },
     "execution_count": 26,
     "metadata": {},
     "output_type": "execute_result"
    }
   ],
   "source": [
    "len(a)"
   ]
  },
  {
   "cell_type": "code",
   "execution_count": 27,
   "metadata": {},
   "outputs": [
    {
     "data": {
      "text/plain": [
       "array([1703234])"
      ]
     },
     "execution_count": 27,
     "metadata": {},
     "output_type": "execute_result"
    }
   ],
   "source": [
    "a[12345]"
   ]
  },
  {
   "cell_type": "code",
   "execution_count": 28,
   "metadata": {},
   "outputs": [
    {
     "data": {
      "text/plain": [
       "array([1703234, 1703235, 1703236, 1703236, 1703237])"
      ]
     },
     "execution_count": 28,
     "metadata": {},
     "output_type": "execute_result"
    }
   ],
   "source": [
    "a[12345:12350]"
   ]
  },
  {
   "cell_type": "markdown",
   "metadata": {},
   "source": [
    "#### iline, xline"
   ]
  },
  {
   "cell_type": "code",
   "execution_count": 29,
   "metadata": {},
   "outputs": [
    {
     "data": {
      "text/plain": [
       "(<tiledb.segy.indexables.Line at 0xa47c062c>,\n",
       " <tiledb.segy.indexables.Line at 0xa47c066c>)"
      ]
     },
     "execution_count": 29,
     "metadata": {},
     "output_type": "execute_result"
    }
   ],
   "source": [
    "f.iline, f.xline"
   ]
  },
  {
   "cell_type": "code",
   "execution_count": 30,
   "metadata": {},
   "outputs": [
    {
     "data": {
      "text/plain": [
       "(287, 735)"
      ]
     },
     "execution_count": 30,
     "metadata": {},
     "output_type": "execute_result"
    }
   ],
   "source": [
    "len(f.iline), len(f.xline)"
   ]
  },
  {
   "cell_type": "code",
   "execution_count": 31,
   "metadata": {},
   "outputs": [
    {
     "data": {
      "text/plain": [
       "(735, 1252)"
      ]
     },
     "execution_count": 31,
     "metadata": {},
     "output_type": "execute_result"
    }
   ],
   "source": [
    "i = f.iline[515]\n",
    "i.shape"
   ]
  },
  {
   "cell_type": "code",
   "execution_count": 32,
   "metadata": {},
   "outputs": [
    {
     "data": {
      "text/plain": [
       "((2, 735, 1252),\n",
       " array([[[0., 0., 0., ..., 0., 0., 0.],\n",
       "         [0., 0., 0., ..., 0., 0., 0.],\n",
       "         [0., 0., 0., ..., 0., 0., 0.],\n",
       "         ...,\n",
       "         [0., 0., 0., ..., 0., 0., 0.],\n",
       "         [0., 0., 0., ..., 0., 0., 0.],\n",
       "         [0., 0., 0., ..., 0., 0., 0.]],\n",
       " \n",
       "        [[0., 0., 0., ..., 0., 0., 0.],\n",
       "         [0., 0., 0., ..., 0., 0., 0.],\n",
       "         [0., 0., 0., ..., 0., 0., 0.],\n",
       "         ...,\n",
       "         [0., 0., 0., ..., 0., 0., 0.],\n",
       "         [0., 0., 0., ..., 0., 0., 0.],\n",
       "         [0., 0., 0., ..., 0., 0., 0.]]], dtype=float32))"
      ]
     },
     "execution_count": 32,
     "metadata": {},
     "output_type": "execute_result"
    }
   ],
   "source": [
    "i2 = f.iline[515:517]\n",
    "assert np.array_equal(i2[0], i)\n",
    "i2.shape, i2"
   ]
  },
  {
   "cell_type": "code",
   "execution_count": 33,
   "metadata": {},
   "outputs": [
    {
     "data": {
      "text/plain": [
       "((287, 1252),\n",
       " array([[0., 0., 0., ..., 0., 0., 0.],\n",
       "        [0., 0., 0., ..., 0., 0., 0.],\n",
       "        [0., 0., 0., ..., 0., 0., 0.],\n",
       "        ...,\n",
       "        [0., 0., 0., ..., 0., 0., 0.],\n",
       "        [0., 0., 0., ..., 0., 0., 0.],\n",
       "        [0., 0., 0., ..., 0., 0., 0.]], dtype=float32))"
      ]
     },
     "execution_count": 33,
     "metadata": {},
     "output_type": "execute_result"
    }
   ],
   "source": [
    "x = f.xline[60]\n",
    "x.shape, x"
   ]
  },
  {
   "cell_type": "code",
   "execution_count": 34,
   "metadata": {},
   "outputs": [
    {
     "data": {
      "text/plain": [
       "((2, 287, 1252),\n",
       " array([[[0., 0., 0., ..., 0., 0., 0.],\n",
       "         [0., 0., 0., ..., 0., 0., 0.],\n",
       "         [0., 0., 0., ..., 0., 0., 0.],\n",
       "         ...,\n",
       "         [0., 0., 0., ..., 0., 0., 0.],\n",
       "         [0., 0., 0., ..., 0., 0., 0.],\n",
       "         [0., 0., 0., ..., 0., 0., 0.]],\n",
       " \n",
       "        [[0., 0., 0., ..., 0., 0., 0.],\n",
       "         [0., 0., 0., ..., 0., 0., 0.],\n",
       "         [0., 0., 0., ..., 0., 0., 0.],\n",
       "         ...,\n",
       "         [0., 0., 0., ..., 0., 0., 0.],\n",
       "         [0., 0., 0., ..., 0., 0., 0.],\n",
       "         [0., 0., 0., ..., 0., 0., 0.]]], dtype=float32))"
      ]
     },
     "execution_count": 34,
     "metadata": {},
     "output_type": "execute_result"
    }
   ],
   "source": [
    "x2 = f.xline[60:62]\n",
    "assert np.array_equal(x2[0], x)\n",
    "x2.shape, x2"
   ]
  },
  {
   "cell_type": "markdown",
   "metadata": {},
   "source": [
    "#### fast, slow"
   ]
  },
  {
   "cell_type": "code",
   "execution_count": 35,
   "metadata": {},
   "outputs": [
    {
     "data": {
      "text/plain": [
       "True"
      ]
     },
     "execution_count": 35,
     "metadata": {},
     "output_type": "execute_result"
    }
   ],
   "source": [
    "f.fast is f.iline"
   ]
  },
  {
   "cell_type": "code",
   "execution_count": 36,
   "metadata": {},
   "outputs": [
    {
     "data": {
      "text/plain": [
       "True"
      ]
     },
     "execution_count": 36,
     "metadata": {},
     "output_type": "execute_result"
    }
   ],
   "source": [
    "f.slow is f.xline"
   ]
  },
  {
   "cell_type": "markdown",
   "metadata": {},
   "source": [
    "#### depth_slice\n"
   ]
  },
  {
   "cell_type": "code",
   "execution_count": 37,
   "metadata": {},
   "outputs": [
    {
     "data": {
      "text/plain": [
       "<tiledb.segy.indexables.Depth at 0xa47c058c>"
      ]
     },
     "execution_count": 37,
     "metadata": {},
     "output_type": "execute_result"
    }
   ],
   "source": [
    "f.depth_slice"
   ]
  },
  {
   "cell_type": "code",
   "execution_count": 38,
   "metadata": {},
   "outputs": [
    {
     "data": {
      "text/plain": [
       "1252"
      ]
     },
     "execution_count": 38,
     "metadata": {},
     "output_type": "execute_result"
    }
   ],
   "source": [
    "len(f.depth_slice)"
   ]
  },
  {
   "cell_type": "code",
   "execution_count": 39,
   "metadata": {},
   "outputs": [
    {
     "data": {
      "text/plain": [
       "((287, 735),\n",
       " array([[0., 0., 0., ..., 0., 0., 0.],\n",
       "        [0., 0., 0., ..., 0., 0., 0.],\n",
       "        [0., 0., 0., ..., 0., 0., 0.],\n",
       "        ...,\n",
       "        [0., 0., 0., ..., 0., 0., 0.],\n",
       "        [0., 0., 0., ..., 0., 0., 0.],\n",
       "        [0., 0., 0., ..., 0., 0., 0.]], dtype=float32))"
      ]
     },
     "execution_count": 39,
     "metadata": {},
     "output_type": "execute_result"
    }
   ],
   "source": [
    "d = f.depth_slice[123]\n",
    "d.shape, d"
   ]
  },
  {
   "cell_type": "code",
   "execution_count": 40,
   "metadata": {},
   "outputs": [
    {
     "data": {
      "text/plain": [
       "((2, 287, 735),\n",
       " array([[[0., 0., 0., ..., 0., 0., 0.],\n",
       "         [0., 0., 0., ..., 0., 0., 0.],\n",
       "         [0., 0., 0., ..., 0., 0., 0.],\n",
       "         ...,\n",
       "         [0., 0., 0., ..., 0., 0., 0.],\n",
       "         [0., 0., 0., ..., 0., 0., 0.],\n",
       "         [0., 0., 0., ..., 0., 0., 0.]],\n",
       " \n",
       "        [[0., 0., 0., ..., 0., 0., 0.],\n",
       "         [0., 0., 0., ..., 0., 0., 0.],\n",
       "         [0., 0., 0., ..., 0., 0., 0.],\n",
       "         ...,\n",
       "         [0., 0., 0., ..., 0., 0., 0.],\n",
       "         [0., 0., 0., ..., 0., 0., 0.],\n",
       "         [0., 0., 0., ..., 0., 0., 0.]]], dtype=float32))"
      ]
     },
     "execution_count": 40,
     "metadata": {},
     "output_type": "execute_result"
    }
   ],
   "source": [
    "d2 = f.depth_slice[123:125]\n",
    "assert np.array_equal(d2[0], d)\n",
    "d2.shape, d2"
   ]
  },
  {
   "cell_type": "markdown",
   "metadata": {},
   "source": [
    "#### gather\n"
   ]
  },
  {
   "cell_type": "code",
   "execution_count": 41,
   "metadata": {},
   "outputs": [
    {
     "data": {
      "text/plain": [
       "<tiledb.segy.indexables.Gather at 0xa47c04ac>"
      ]
     },
     "execution_count": 41,
     "metadata": {},
     "output_type": "execute_result"
    }
   ],
   "source": [
    "f.gather"
   ]
  },
  {
   "cell_type": "code",
   "execution_count": 42,
   "metadata": {},
   "outputs": [
    {
     "ename": "TypeError",
     "evalue": "object of type 'Gather' has no len()",
     "output_type": "error",
     "traceback": [
      "\u001b[0;31m---------------------------------------------------------------------------\u001b[0m",
      "\u001b[0;31mTypeError\u001b[0m                                 Traceback (most recent call last)",
      "\u001b[0;32m<ipython-input-42-e17deaa8a356>\u001b[0m in \u001b[0;36m<module>\u001b[0;34m\u001b[0m\n\u001b[0;32m----> 1\u001b[0;31m \u001b[0mlen\u001b[0m\u001b[0;34m(\u001b[0m\u001b[0mf\u001b[0m\u001b[0;34m.\u001b[0m\u001b[0mgather\u001b[0m\u001b[0;34m)\u001b[0m\u001b[0;34m\u001b[0m\u001b[0;34m\u001b[0m\u001b[0m\n\u001b[0m",
      "\u001b[0;31mTypeError\u001b[0m: object of type 'Gather' has no len()"
     ]
    }
   ],
   "source": [
    "len(f.gather)"
   ]
  },
  {
   "cell_type": "code",
   "execution_count": 43,
   "metadata": {},
   "outputs": [
    {
     "data": {
      "text/plain": [
       "((1252,),\n",
       " array([0.    , 0.    , 0.    , ..., 0.6014, 0.5011, 0.    ], dtype=float32))"
      ]
     },
     "execution_count": 43,
     "metadata": {},
     "output_type": "execute_result"
    }
   ],
   "source": [
    "g = f.gather[525, 159]\n",
    "g.shape, g"
   ]
  },
  {
   "cell_type": "code",
   "execution_count": 44,
   "metadata": {},
   "outputs": [
    {
     "data": {
      "text/plain": [
       "((5, 1252),\n",
       " array([[ 0.    ,  0.    ,  0.    , ...,  0.6014,  0.5011,  0.    ],\n",
       "        [ 0.    ,  0.    ,  0.    , ...,  0.6067,  0.56  ,  0.    ],\n",
       "        [ 0.    ,  0.    ,  0.    , ..., -0.0999,  0.    ,  0.    ],\n",
       "        [ 0.    ,  0.    ,  0.    , ...,  0.    , -0.0442,  0.    ],\n",
       "        [ 0.    ,  0.    ,  0.    , ...,  0.    ,  0.    ,  0.    ]],\n",
       "       dtype=float32))"
      ]
     },
     "execution_count": 44,
     "metadata": {},
     "output_type": "execute_result"
    }
   ],
   "source": [
    "g5 = f.gather[525:530, 159]\n",
    "assert np.array_equal(g5[0], g)\n",
    "g5.shape, g5"
   ]
  },
  {
   "cell_type": "code",
   "execution_count": 45,
   "metadata": {},
   "outputs": [
    {
     "data": {
      "text/plain": [
       "((4, 1252),\n",
       " array([[0.    , 0.    , 0.    , ..., 0.6014, 0.5011, 0.    ],\n",
       "        [0.    , 0.    , 0.    , ..., 0.4984, 0.3987, 0.    ],\n",
       "        [0.    , 0.    , 0.    , ..., 0.3552, 0.3108, 0.    ],\n",
       "        [0.    , 0.    , 0.    , ..., 0.2803, 0.2402, 0.    ]],\n",
       "       dtype=float32))"
      ]
     },
     "execution_count": 45,
     "metadata": {},
     "output_type": "execute_result"
    }
   ],
   "source": [
    "g4 = f.gather[525, 159:163]\n",
    "assert np.array_equal(g4[0], g)\n",
    "g4.shape, g4"
   ]
  },
  {
   "cell_type": "code",
   "execution_count": 46,
   "metadata": {},
   "outputs": [
    {
     "data": {
      "text/plain": [
       "((5, 4, 1252),\n",
       " array([[[ 0.    ,  0.    ,  0.    , ...,  0.6014,  0.5011,  0.    ],\n",
       "         [ 0.    ,  0.    ,  0.    , ...,  0.4984,  0.3987,  0.    ],\n",
       "         [ 0.    ,  0.    ,  0.    , ...,  0.3552,  0.3108,  0.    ],\n",
       "         [ 0.    ,  0.    ,  0.    , ...,  0.2803,  0.2402,  0.    ]],\n",
       " \n",
       "        [[ 0.    ,  0.    ,  0.    , ...,  0.6067,  0.56  ,  0.    ],\n",
       "         [ 0.    ,  0.    ,  0.    , ...,  0.4748,  0.4748,  0.    ],\n",
       "         [ 0.    ,  0.    ,  0.    , ...,  0.4932,  0.4484,  0.    ],\n",
       "         [ 0.    ,  0.    ,  0.    , ...,  0.4675,  0.425 ,  0.    ]],\n",
       " \n",
       "        [[ 0.    ,  0.    ,  0.    , ..., -0.0999,  0.    ,  0.    ],\n",
       "         [ 0.    ,  0.    ,  0.    , ...,  0.    ,  0.0478,  0.    ],\n",
       "         [ 0.    ,  0.    ,  0.    , ...,  0.0792,  0.1188,  0.    ],\n",
       "         [ 0.    ,  0.    ,  0.    , ...,  0.0399,  0.0799,  0.    ]],\n",
       " \n",
       "        [[ 0.    ,  0.    ,  0.    , ...,  0.    , -0.0442,  0.    ],\n",
       "         [ 0.    ,  0.    ,  0.    , ...,  0.0456,  0.0456,  0.    ],\n",
       "         [ 0.    ,  0.    ,  0.    , ...,  0.0855,  0.0855,  0.    ],\n",
       "         [ 0.    ,  0.    ,  0.    , ...,  0.037 ,  0.0739,  0.    ]],\n",
       " \n",
       "        [[ 0.    ,  0.    ,  0.    , ...,  0.    ,  0.    ,  0.    ],\n",
       "         [ 0.    ,  0.    ,  0.    , ...,  0.0461,  0.0461,  0.    ],\n",
       "         [ 0.    ,  0.    ,  0.    , ...,  0.0907,  0.136 ,  0.    ],\n",
       "         [ 0.    ,  0.    ,  0.    , ...,  0.1361,  0.1815,  0.    ]]],\n",
       "       dtype=float32))"
      ]
     },
     "execution_count": 46,
     "metadata": {},
     "output_type": "execute_result"
    }
   ],
   "source": [
    "g54 = f.gather[525:530, 159:163]\n",
    "assert np.array_equal(g54[0, 0], g)\n",
    "g54.shape, g54"
   ]
  },
  {
   "cell_type": "markdown",
   "metadata": {},
   "source": [
    "#### text\n"
   ]
  },
  {
   "cell_type": "code",
   "execution_count": 47,
   "metadata": {},
   "outputs": [
    {
     "data": {
      "text/plain": [
       "(tuple, 1, bytes)"
      ]
     },
     "execution_count": 47,
     "metadata": {},
     "output_type": "execute_result"
    }
   ],
   "source": [
    "type(f.text), len(f.text), type(f.text[0])"
   ]
  },
  {
   "cell_type": "code",
   "execution_count": 48,
   "metadata": {},
   "outputs": [
    {
     "data": {
      "text/plain": [
       "b'C01 AREA        : OFFSHORE TARANAKI - OFFSHORE TARANAKI SEISMIC DATABASE        C02 DESCRIPTION : KERRY3D SEISMIC COVERAGE - PHASE MATCHED IN GEOFRAME          C03 =========================================================================== C04 DATE     :1996       CLASS      :RAW MIGRATION /+90 DEGREE PHASE SHIFT      C05 OPERATOR :WMC        PROCESSING :DIGICON SINGAPORE                          C06 =========================================================================== C07 THE 3D DATA HAS BEEN DATUM AND PHASE SHIFTED. DATA HAS BEEN MERGED WITH     C08 CHECKED NAV AND EXPORTED FROM GEOFRAME 4.2 IN STANDARD SEGY.                C09 INLINES/SP RANGE :510-796 CDP INC       :1        SAMPLE INTERVAL :4000     C10 XLINES/CDP RANGE :58-792  SAMPLES/TRACE :1251     FINAL TIME :5000          C11 LINE INC      :1  TRACES/LINE   :VARIABLE IL/XL X/EAST Y/NORTH              C12 =========================================================================== C13 THIS DATASET WAS PREPARED AND COMPILED BY THE INSITITUE OF GEOLOGICAL       C14 AND NUCLEAR SCIENCES LIMITED (GNS SCIENCE), 1 FAIRWAY DRIVE,                C15 LOWER HUTT, NEW ZEALAND. FUNDING FOR THIS PROJECT WAS PROVIDED BY THE       C16 FOUNDATION FOR RESEARCH, SCIENCE AND TECHNOLOGY: CO5X0302 AND CO5X0905.     C17                                                                             C18 THIS DATA IS PROVIDED ON A \"AS IS\" BASIS AND ALTHOUGH DATA HAS BEEN         C19 MODIFIED BY GNS SCIENCE, NO WARRANTY, EXPRESSED OR IMPLIED, IS MADE BY      C20 GNS SCIENCE AS TO THE ACCURACY OF THE DATA OR RELATED MATERIALS, ITS        C21 COMPLETENESS OR FITNESS FOR PURPOSE. IN NO EVENT WILL GNS SCIENCE, ITS      C22 EMPLOYEES, AGENTS OR CONTRACTORS BE LIABLE FOR ANY LOSS COSTS OR DAMAGE     C23 ARISING FROM ANY PARTIES USE OR RELIANCE ON THE DATASET INCLUDING ANY       C24 CONSEQUENTIAL, SPECIAL, INDIRECT, INCIDENTAL, PUNITIVE OR EXEMPLARY         C25 DAMAGES, COSTS, EXPENSES OR LOSSES. GNS SCIENCE WILL NOT ACCEPT ANY         C26 LIABILITY FOR THE CONSEQUENCES OF ANY PARTY ACTING ON THIS INFORMATION.     C27 =========================================================================== C28 BYTE LOCATIONS :      SURVEY GEOMETRY    SURVEY/DATA PARAMETERS             C29 LINE      :BYTES 221  MIN Line :510      DATA TYPE  :SEGY                   C30 CDP       :BYTES 21   MAX Line :796      MEDIA No   :E02337 - E02342        C31 SOURCE X  :BYTES 73   MIN CDP  :58       PROJECTION :NZTM                   C32 SOURCE Y  :BYTES 77   MAX CDP  :792      DATUM      :NZGD2000               C33 =========================================================================== C34 POINTS USED FOR        LINE 510  CDP 58        LINE 792  CDP 796            C35 SURVEY DEFINITION:     1703638   5571677       1689838   5608539            C36                        LINE 510  CDP 792                                    C37                        1704135   5608346                                    C38 DATE CREATED: 1 FEB 2010                                                    C39 USER: P.VISKOVIC                                                            C40                                                                             '"
      ]
     },
     "execution_count": 48,
     "metadata": {},
     "output_type": "execute_result"
    }
   ],
   "source": [
    "f.text[0]"
   ]
  },
  {
   "cell_type": "markdown",
   "metadata": {},
   "source": [
    "#### bin\n"
   ]
  },
  {
   "cell_type": "code",
   "execution_count": 49,
   "metadata": {},
   "outputs": [
    {
     "name": "stdout",
     "output_type": "stream",
     "text": [
      "{'AmplitudeRecovery': 0, 'AuxTraces': 0, 'BinaryGainRecovery': 0, 'CorrelatedTraces': 0, 'EnsembleFold': 1, 'ExtAuxTraces': 0, 'ExtEnsembleFold': 0, 'ExtSamples': 0, 'ExtSamplesOriginal': 0, 'ExtendedHeaders': 0, 'Format': 1, 'ImpulseSignalPolarity': 0, 'Interval': 4000, 'IntervalOriginal': 0, 'JobID': 0, 'LineNumber': 510, 'MeasurementSystem': 0, 'ReelNumber': 0, 'SEGYRevision': 0, 'SEGYRevisionMinor': 0, 'Samples': 1252, 'SamplesOriginal': 0, 'SortingCode': 4, 'Sweep': 0, 'SweepChannel': 0, 'SweepFrequencyEnd': 0, 'SweepFrequencyStart': 0, 'SweepLength': 0, 'SweepTaperEnd': 0, 'SweepTaperStart': 0, 'Taper': 0, 'TraceFlag': 0, 'Traces': 1, 'VerticalSum': 1, 'VibratoryPolarity': 0}\n"
     ]
    },
    {
     "data": {
      "text/plain": [
       "dict"
      ]
     },
     "execution_count": 49,
     "metadata": {},
     "output_type": "execute_result"
    }
   ],
   "source": [
    "b = f.bin\n",
    "print(b)\n",
    "type(b)"
   ]
  }
 ],
 "metadata": {
  "kernelspec": {
   "display_name": "Python 3",
   "language": "python",
   "name": "python3"
  },
  "language_info": {
   "codemirror_mode": {
    "name": "ipython",
    "version": 3
   },
   "file_extension": ".py",
   "mimetype": "text/x-python",
   "name": "python",
   "nbconvert_exporter": "python",
   "pygments_lexer": "ipython3",
   "version": "3.7.1"
  }
 },
 "nbformat": 4,
 "nbformat_minor": 4
}
